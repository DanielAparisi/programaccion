{
  "nbformat": 4,
  "nbformat_minor": 0,
  "metadata": {
    "colab": {
      "provenance": [],
      "include_colab_link": true
    },
    "kernelspec": {
      "name": "python3",
      "display_name": "Python 3"
    },
    "language_info": {
      "name": "python"
    }
  },
  "cells": [
    {
      "cell_type": "markdown",
      "metadata": {
        "id": "view-in-github",
        "colab_type": "text"
      },
      "source": [
        "<a href=\"https://colab.research.google.com/github/DanielAparisi/programaccion/blob/main/Artim%C3%A9tica.ipynb\" target=\"_parent\"><img src=\"https://colab.research.google.com/assets/colab-badge.svg\" alt=\"Open In Colab\"/></a>"
      ]
    },
    {
      "cell_type": "markdown",
      "source": [
        "**Máximo**"
      ],
      "metadata": {
        "id": "hksLShOL_MkM"
      }
    },
    {
      "cell_type": "code",
      "source": [
        "def maximo(L):\n",
        "  m = L[0]\n",
        "  for i in L:\n",
        "    if i>m:\n",
        "      m = i\n",
        "  return m"
      ],
      "metadata": {
        "id": "mpni9yu0qAB8"
      },
      "execution_count": null,
      "outputs": []
    },
    {
      "cell_type": "markdown",
      "source": [
        "**División Entera**"
      ],
      "metadata": {
        "id": "b8JL_guRp1hs"
      }
    },
    {
      "cell_type": "code",
      "source": [
        "#La división entera existe en Python:\n",
        "#el cociente es p//q y el resto p%q,\n",
        "#cuando q es negativo, el cociente y resto de Python no son los habituales del teorema del resto\n",
        "\n",
        "#También la podemos programar así:\n",
        "\n",
        "def divisionEnteraNatural(D,d):\n",
        "    q = 0\n",
        "    while D-d*q >=0:\n",
        "        q = q+1\n",
        "    return [q-1,D-d*(q-1)]\n",
        "\n",
        "def divisionEntera(D,d):\n",
        "    if D>=0 and d>0:\n",
        "        return divisionEnteraNatural(D,d)\n",
        "    elif D>=0 and d<0:\n",
        "        return [-divisionEnteraNatural(D,-d)[0],divisionEnteraNatural(D,-d)[1]]\n",
        "    elif D<=0 and d>0:\n",
        "        return [-divisionEnteraNatural(-D,d)[0]-1, d-divisionEnteraNatural(-D,d)[1]]\n",
        "    return [divisionEnteraNatural(-D,-d)[0]+1, -d-divisionEnteraNatural(-D,-d)[1]]\n",
        "\n"
      ],
      "metadata": {
        "id": "n4G5GKfV_PcZ"
      },
      "execution_count": null,
      "outputs": []
    },
    {
      "cell_type": "markdown",
      "source": [
        "**Divisores de un entero y máximo común divisor**"
      ],
      "metadata": {
        "id": "a3k8lQRTvCNV"
      }
    },
    {
      "cell_type": "code",
      "source": [
        "#divisores positivos de un entero no nulo\n",
        "def divisores(p):\n",
        "  divisores =[]\n",
        "  i=1\n",
        "  while i <=p:\n",
        "    if p%i ==0:\n",
        "      divisores.append(i)\n",
        "    i=i+1\n",
        "  return divisores\n",
        "\n",
        "  #máximo común divisor\n",
        "def mcd(m,n):\n",
        "  if m==0:\n",
        "    return n\n",
        "  elif n == 0:\n",
        "    return m\n",
        "  return max(set(divisores(m)).intersection(set(divisores (n))))\n"
      ],
      "metadata": {
        "id": "ZB_bypE9vIHW"
      },
      "execution_count": null,
      "outputs": []
    },
    {
      "cell_type": "markdown",
      "source": [
        "**Algoritmo de Euclides generalizado**"
      ],
      "metadata": {
        "id": "QXZyao8pz1CS"
      }
    },
    {
      "cell_type": "code",
      "source": [
        "#Algoritmo de Euclides para el cálculo del máximo común divisor\n",
        "\n",
        "from tabulate import tabulate                           #Paquete de tablas de Python\n",
        "\n",
        "#Procedimientos auxiliares\n",
        "\n",
        "def quitarSignosyOrdenar (m,n):\n",
        "    m = abs(m)                                          #Ajuste de signos\n",
        "    n = abs(n)\n",
        "    if m < n:\n",
        "        return [n,m]                                    #Colocar el mayor el primero\n",
        "    else:\n",
        "        return [m,n]\n",
        "\n",
        "\n",
        "def calcularMcdEuclides (m, n):\n",
        "    nuevasVar = quitarSignosyOrdenar(m,n)               #Preparación de la pareja\n",
        "    m = nuevasVar[0]\n",
        "    n = nuevasVar[1]\n",
        "    if n == 0:                                          #Caso particular de que el pequeño sea 0\n",
        "        return m\n",
        "    else:\n",
        "        resto = m % n                                   #Primer resto\n",
        "        while resto != 0:                               #Cálculo de restos mientras no sean nulos\n",
        "            m = n\n",
        "            n = resto\n",
        "            resto = m % n\n",
        "        return n\n",
        "\n",
        "\n",
        "#Algoritmo de Euclides para el cálculo del máximo común divisor programado de forma recursiva\n",
        "\n",
        "def calcularMcdRecursivo (m, n):\n",
        "    NuevasVar = quitarSignosyOrdenar(m, n)              #Preparación de la pareja\n",
        "    m = NuevasVar[0]\n",
        "    n = NuevasVar[1]\n",
        "    if n == 0:\n",
        "        return m                                        #Caso inicial\n",
        "    else:\n",
        "        return calcularMcdRecursivo(n, m % n)           #Caso recursivo\n",
        "\n",
        "\n",
        "def euclidesExtendido (m, n):                           #Identidades de Bezout en una lista para poder llamarlas\n",
        "    NuevasVar = quitarSignosyOrdenar(m, n)              #Preparación de la pareja\n",
        "    m = NuevasVar[0]\n",
        "    n = NuevasVar[1]\n",
        "    restos = ['restos', m, n]                           #Inicia cada una de las filas de la tabla: restos, cocientes, x e y\n",
        "    cocientes =['cocientes', []]                        #El primer cociente está vacío\n",
        "    x = ['x', 1, 0]\n",
        "    y = ['y', 0, 1]\n",
        "\n",
        "    while restos[-1] != 0:                              #El bucle termina cuando el resto da 0\n",
        "        restos = restos + [restos[-2] % restos[-1]]\n",
        "        cocientes = cocientes + [restos[-3] // restos[-2]]\n",
        "        x = x + [x[-2]-cocientes[-1]*x[-1]]\n",
        "        y = y + [y[-2]-cocientes[-1]*y[-1]]\n",
        "\n",
        "    restos.pop(-1)                                      #Quitamos los últimos valores que no son informativos\n",
        "    x.pop(-1)\n",
        "    y.pop(-1)\n",
        "    table = [restos] + [cocientes] + [x] + [y]          #La salida tiene cuatro listas\n",
        "    return table\n",
        "\n",
        "def euclidesExtendidoTabla (m,n):                       #Identidades de Bezout en una tabla\n",
        "   table = tabulate(euclidesExtendido (m,n))\n",
        "   print(table)\n",
        "\n",
        "def identidadBezout (m,n):                              #Coeficientes de la identidad de Bezout\n",
        "    lista = euclidesExtendido (m,n)\n",
        "    coefs = [lista[0][-1],[lista[2][-1],lista[0][1]],\n",
        "             [lista[-1][-1],lista[0][2]]]\n",
        "    return coefs\n",
        "\n",
        "def explicitaBezout (m,n):                              #Muestra en pantalla la identidad de Bezout\n",
        "    lista = identidadBezout (m,n)\n",
        "    print(lista[0],'=',lista[1][0],'*',\n",
        "          lista[1][1],'+',lista[2][0],'*',lista[2][1])"
      ],
      "metadata": {
        "id": "rr2HOV4a0F3j"
      },
      "execution_count": null,
      "outputs": []
    },
    {
      "cell_type": "markdown",
      "source": [
        "**Factorización, primalidad y máximo común divisor (de nuevo)**"
      ],
      "metadata": {
        "id": "WMRAhpa_AEH4"
      }
    },
    {
      "cell_type": "code",
      "source": [
        "#Factorización y primalidad\n",
        "\n",
        "def primerFactor (p):\n",
        "    if p == 1:\n",
        "        return p\n",
        "    else:\n",
        "        cont =2\n",
        "        while p%cont != 0:\n",
        "            cont = cont + 1\n",
        "    return cont\n",
        "\n",
        "def factorizar (p):\n",
        "    actual = p\n",
        "    listaFactores = [primerFactor(p)]\n",
        "    while actual != primerFactor(actual):\n",
        "        actual = actual // primerFactor(actual)\n",
        "        listaFactores.append(primerFactor(actual))\n",
        "    return listaFactores\n",
        "\n",
        "def factorizarRecursivo (p):\n",
        "    actual = p\n",
        "    if actual == 1:\n",
        "        return []\n",
        "    else:\n",
        "        cociente = primerFactor(actual)\n",
        "        actual = actual // primerFactor(actual)\n",
        "        return  factorizarRecursivo(actual) +[cociente]\n",
        "\n",
        "def esPrimo(p):\n",
        "    return p == primerFactor(p) and p!=1\n",
        "\n",
        "#Máximo común divisor por la definicion\n",
        "\n",
        "def maximoComunDivisor (m,n):\n",
        "    divisoresComunes = list(set(factorizar(m)).intersection(set(factorizar(n))))\n",
        "    mcd = 1\n",
        "    for i in divisoresComunes:\n",
        "        exp = min(factorizar(m).count(i),factorizar(n).count(i))\n",
        "        mcd = mcd*(i**exp)\n",
        "\n",
        "    return mcd\n"
      ],
      "metadata": {
        "id": "ZuD3xILtAGdC"
      },
      "execution_count": null,
      "outputs": []
    },
    {
      "cell_type": "code",
      "source": [
        "explicitaBezout(77,16)"
      ],
      "metadata": {
        "id": "-0zZMyUT8_GW",
        "outputId": "dc88e761-32e4-4755-b3d8-5965a426d0d7",
        "colab": {
          "base_uri": "https://localhost:8080/"
        }
      },
      "execution_count": null,
      "outputs": [
        {
          "output_type": "stream",
          "name": "stdout",
          "text": [
            "1 = 5 * 77 + -24 * 16\n"
          ]
        }
      ]
    },
    {
      "cell_type": "code",
      "source": [
        "euclidesExtendidoTabla(59,21)"
      ],
      "metadata": {
        "colab": {
          "base_uri": "https://localhost:8080/"
        },
        "id": "SpBjih-X90hI",
        "outputId": "79b27936-b91d-4942-9268-e5dbff055d94"
      },
      "execution_count": null,
      "outputs": [
        {
          "output_type": "stream",
          "name": "stdout",
          "text": [
            "---------  --  --  --  --  ---\n",
            "restos     59  21  17   4    1\n",
            "cocientes  []   2   1   4    4\n",
            "x          1    0   1  -1    5\n",
            "y          0    1  -2   3  -14\n",
            "---------  --  --  --  --  ---\n"
          ]
        }
      ]
    },
    {
      "cell_type": "code",
      "source": [
        "euclidesExtendidoTabla(46,25)"
      ],
      "metadata": {
        "id": "QpVyXmSQ_ZXv",
        "outputId": "f1739299-484f-47be-8c23-dcf2cac44e4a",
        "colab": {
          "base_uri": "https://localhost:8080/"
        }
      },
      "execution_count": null,
      "outputs": [
        {
          "output_type": "stream",
          "name": "stdout",
          "text": [
            "---------  --  --  --  --  ---\n",
            "restos     46  25  21   4    1\n",
            "cocientes  []   1   1   5    4\n",
            "x          1    0   1  -1    6\n",
            "y          0    1  -1   2  -11\n",
            "---------  --  --  --  --  ---\n"
          ]
        }
      ]
    },
    {
      "cell_type": "code",
      "source": [
        "euclidesExtendidoTabla(220,17)"
      ],
      "metadata": {
        "colab": {
          "base_uri": "https://localhost:8080/"
        },
        "id": "a0ywIVWSTEnO",
        "outputId": "e6c795e5-8ef2-4ef4-b725-8eea15b1667e"
      },
      "execution_count": null,
      "outputs": [
        {
          "output_type": "stream",
          "name": "stdout",
          "text": [
            "---------  ---  --  ---  --\n",
            "restos     220  17   16   1\n",
            "cocientes  []   12    1  16\n",
            "x          1     0    1  -1\n",
            "y          0     1  -12  13\n",
            "---------  ---  --  ---  --\n"
          ]
        }
      ]
    }
  ]
}